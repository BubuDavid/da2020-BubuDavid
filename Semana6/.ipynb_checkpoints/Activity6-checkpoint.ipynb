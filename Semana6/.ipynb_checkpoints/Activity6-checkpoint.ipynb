{
 "cells": [
  {
   "cell_type": "code",
   "execution_count": 66,
   "metadata": {},
   "outputs": [],
   "source": [
    "import numpy as np\n",
    "from scipy.optimize import minimize\n",
    "import matplotlib.pyplot as plt"
   ]
  },
  {
   "cell_type": "code",
   "execution_count": 3,
   "metadata": {},
   "outputs": [],
   "source": [
    "dara = np.load(\"../datos/fit_exercise.npy\")"
   ]
  },
  {
   "cell_type": "code",
   "execution_count": 4,
   "metadata": {},
   "outputs": [
    {
     "data": {
      "text/plain": [
       "array([[ 0.59677897,  0.9210494 ,  1.15618395,  1.75451756,  1.8249173 ,\n",
       "         2.26851454,  2.28263231,  2.50455365,  2.86139335,  2.93714046,\n",
       "         3.12261223,  3.17285482,  3.22958914,  3.43178016,  3.61788656,\n",
       "         3.92117518,  3.98044255,  4.14826212,  4.2310646 ,  4.2583029 ,\n",
       "         4.26351307,  4.30862763,  4.33701173,  4.38572245,  4.80931901,\n",
       "         4.83034264,  4.93685098,  5.01836676,  5.19485119,  5.31551374,\n",
       "         5.31827587,  5.51314769,  6.11023511,  6.12894526,  6.23952952,\n",
       "         6.30976124,  6.34400959,  6.84829739,  6.96469186,  7.1946897 ,\n",
       "         7.22443383,  7.24455325,  7.29049707,  7.37995406,  8.49431794,\n",
       "         8.66309158,  8.93389163,  9.44160018,  9.80764198,  9.85559786],\n",
       "       [ 8.11257148,  3.52815075,  4.81023356,  0.89238164,  3.13295195,\n",
       "         3.53338034,  1.89933975,  2.83896349,  0.89713921,  0.9500022 ,\n",
       "         1.45700044,  1.05318568,  1.71011605,  0.06780647,  0.40019114,\n",
       "         1.00444563, -0.02239716,  0.35714018,  0.36639252, -0.20377166,\n",
       "         0.4535501 , -0.05481938,  0.11108328,  0.05408497, -0.4312348 ,\n",
       "         0.03066613,  0.04872262, -0.60437665, -0.92605578, -1.43906426,\n",
       "         0.05799768, -2.19399769, -2.19477287, -2.07585727, -1.99984962,\n",
       "        -1.01857516, -0.14032142, -2.42545494, -1.27448771, -2.09526812,\n",
       "        -2.14633492, -3.37270574, -4.11273068, -3.72061886, -4.85942793,\n",
       "        -3.4872956 , -2.6354799 , -4.70700707, -6.73600298, -0.44957541],\n",
       "       [ 0.16031433,  0.5131704 ,  0.40153006,  0.372534  ,  0.27138192,\n",
       "         0.25206039,  0.30851111,  0.44065038,  0.53772842,  0.35521117,\n",
       "         0.43465689,  0.39296828,  0.41245175,  0.43734453,  0.52117122,\n",
       "         0.14159749,  0.48184142,  0.22183319,  0.19711148,  0.38622848,\n",
       "         0.14785626,  0.54266341,  0.41362449,  0.46170818,  0.1080646 ,\n",
       "         0.39721594,  0.3783926 ,  0.17947982,  0.17653526,  0.44776476,\n",
       "         0.25938321,  0.44598515,  0.37719162,  0.29447529,  0.56256624,\n",
       "         0.520835  ,  0.27869878,  0.12179573,  0.25238404,  0.29909284,\n",
       "         0.45247942,  0.59767924,  0.27795743,  0.48127391,  0.39658846,\n",
       "         0.4458509 ,  0.17556373,  0.29943815,  0.22042795,  0.27172801]])"
      ]
     },
     "execution_count": 4,
     "metadata": {},
     "output_type": "execute_result"
    }
   ],
   "source": [
    "dara"
   ]
  },
  {
   "cell_type": "code",
   "execution_count": 6,
   "metadata": {},
   "outputs": [
    {
     "data": {
      "text/plain": [
       "<ErrorbarContainer object of 3 artists>"
      ]
     },
     "execution_count": 6,
     "metadata": {},
     "output_type": "execute_result"
    },
    {
     "data": {
      "image/png": "[encoded data removed]",
      "text/plain": [
       "<Figure size 432x288 with 1 Axes>"
      ]
     },
     "metadata": {
      "needs_background": "light"
     },
     "output_type": "display_data"
    }
   ],
   "source": [
    "plt.errorbar(dara[0],dara[1],yerr=dara[2])"
   ]
  },
  {
   "cell_type": "markdown",
   "metadata": {},
   "source": [
    "## Generating model"
   ]
  },
  {
   "cell_type": "code",
   "execution_count": 22,
   "metadata": {},
   "outputs": [],
   "source": [
    "def chi(data, m, b):\n",
    "    suma = 0\n",
    "    for index, element in enumerate(data[0]):\n",
    "        suma += (data[1][index] - (m*data[0][index] + b))**2 / data[2][index]**2\n",
    "    return suma"
   ]
  },
  {
   "cell_type": "markdown",
   "metadata": {},
   "source": [
    "## Checking model"
   ]
  },
  {
   "cell_type": "code",
   "execution_count": 27,
   "metadata": {},
   "outputs": [
    {
     "data": {
      "text/plain": [
       "2154.651498070416"
      ]
     },
     "execution_count": 27,
     "metadata": {},
     "output_type": "execute_result"
    }
   ],
   "source": [
    "m = -1\n",
    "b = 6\n",
    "chi(dara, m, b)"
   ]
  },
  {
   "cell_type": "markdown",
   "metadata": {},
   "source": [
    "## Generating matrix of m's and b's"
   ]
  },
  {
   "cell_type": "code",
   "execution_count": 47,
   "metadata": {},
   "outputs": [
    {
     "name": "stdout",
     "output_type": "stream",
     "text": [
      "1246.4692834694686\n",
      "m=-1.1111 b=5.3333\n"
     ]
    }
   ],
   "source": [
    "n = 10\n",
    "m_range = np.linspace(0, -2, n)\n",
    "b_range = np.linspace(2, 8, n)\n",
    "mini = 100000000\n",
    "for i,m in enumerate(m_range):\n",
    "    for j, b in enumerate(b_range):\n",
    "        aux = chi(dara, m, b)\n",
    "        if aux < mini:\n",
    "            mini = aux\n",
    "            mini_m = m\n",
    "            mini_b = b\n",
    "print(mini)\n",
    "print(\"m={:.4f} b={:.4f}\".format(mini_m, mini_b))"
   ]
  },
  {
   "cell_type": "markdown",
   "metadata": {},
   "source": [
    "## Now, we try with random data"
   ]
  },
  {
   "cell_type": "code",
   "execution_count": 63,
   "metadata": {},
   "outputs": [
    {
     "name": "stdout",
     "output_type": "stream",
     "text": [
      "1310.2063193586876\n",
      "m=-0.9632 b=4.6479\n"
     ]
    }
   ],
   "source": [
    "n_random = 10\n",
    "m_range = [-2,0]\n",
    "b_range = [2,8]\n",
    "\n",
    "np.random.seed(5)\n",
    "\n",
    "mRand = np.random.rand(n_random)\n",
    "bRand = np.random.rand(n_random)\n",
    "\n",
    "mRand = mRand*(m_range[1]-m_range[0]) + m_range[0]\n",
    "bRand = bRand*(b_range[1]-b_range[0]) + b_range[0]\n",
    "\n",
    "miniRandom = 100000000\n",
    "\n",
    "#print(mRand)\n",
    "#print(bRand)\n",
    "\n",
    "for i,m in enumerate(mRand):\n",
    "    for j, b in enumerate(bRand):\n",
    "        aux = chi(dara, m, b)\n",
    "        #print(aux)\n",
    "        if aux < miniRandom:\n",
    "            miniRandom = aux\n",
    "            randomMini_m = m\n",
    "            randomMini_b = b\n",
    "            \n",
    "print(miniRandom)\n",
    "print(\"m={:.4f} b={:.4f}\".format(randomMini_m, randomMini_b))"
   ]
  },
  {
   "cell_type": "markdown",
   "metadata": {},
   "source": [
    "## Now, we going to try optimize"
   ]
  },
  {
   "cell_type": "code",
   "execution_count": 67,
   "metadata": {},
   "outputs": [
    {
     "ename": "TypeError",
     "evalue": "'numpy.ndarray' object is not callable",
     "output_type": "error",
     "traceback": [
      "\u001b[1;31m---------------------------------------------------------------------------\u001b[0m",
      "\u001b[1;31mTypeError\u001b[0m                                 Traceback (most recent call last)",
      "\u001b[1;32m<ipython-input-67-4ad6ea1156e5>\u001b[0m in \u001b[0;36m<module>\u001b[1;34m\u001b[0m\n\u001b[1;32m----> 1\u001b[1;33m \u001b[0mNumpy_Optimize\u001b[0m \u001b[1;33m=\u001b[0m \u001b[0mminimize\u001b[0m\u001b[1;33m(\u001b[0m\u001b[0mdara\u001b[0m\u001b[1;33m,\u001b[0m \u001b[1;33m-\u001b[0m\u001b[1;36m1\u001b[0m\u001b[1;33m,\u001b[0m \u001b[1;36m6\u001b[0m\u001b[1;33m)\u001b[0m\u001b[1;33m\u001b[0m\u001b[1;33m\u001b[0m\u001b[0m\n\u001b[0m",
      "\u001b[1;32mc:\\users\\david\\miniconda3\\lib\\site-packages\\scipy\\optimize\\_minimize.py\u001b[0m in \u001b[0;36mminimize\u001b[1;34m(fun, x0, args, method, jac, hess, hessp, bounds, constraints, tol, callback, options)\u001b[0m\n\u001b[0;32m    602\u001b[0m         \u001b[1;32mreturn\u001b[0m \u001b[0m_minimize_cg\u001b[0m\u001b[1;33m(\u001b[0m\u001b[0mfun\u001b[0m\u001b[1;33m,\u001b[0m \u001b[0mx0\u001b[0m\u001b[1;33m,\u001b[0m \u001b[0margs\u001b[0m\u001b[1;33m,\u001b[0m \u001b[0mjac\u001b[0m\u001b[1;33m,\u001b[0m \u001b[0mcallback\u001b[0m\u001b[1;33m,\u001b[0m \u001b[1;33m**\u001b[0m\u001b[0moptions\u001b[0m\u001b[1;33m)\u001b[0m\u001b[1;33m\u001b[0m\u001b[1;33m\u001b[0m\u001b[0m\n\u001b[0;32m    603\u001b[0m     \u001b[1;32melif\u001b[0m \u001b[0mmeth\u001b[0m \u001b[1;33m==\u001b[0m \u001b[1;34m'bfgs'\u001b[0m\u001b[1;33m:\u001b[0m\u001b[1;33m\u001b[0m\u001b[1;33m\u001b[0m\u001b[0m\n\u001b[1;32m--> 604\u001b[1;33m         \u001b[1;32mreturn\u001b[0m \u001b[0m_minimize_bfgs\u001b[0m\u001b[1;33m(\u001b[0m\u001b[0mfun\u001b[0m\u001b[1;33m,\u001b[0m \u001b[0mx0\u001b[0m\u001b[1;33m,\u001b[0m \u001b[0margs\u001b[0m\u001b[1;33m,\u001b[0m \u001b[0mjac\u001b[0m\u001b[1;33m,\u001b[0m \u001b[0mcallback\u001b[0m\u001b[1;33m,\u001b[0m \u001b[1;33m**\u001b[0m\u001b[0moptions\u001b[0m\u001b[1;33m)\u001b[0m\u001b[1;33m\u001b[0m\u001b[1;33m\u001b[0m\u001b[0m\n\u001b[0m\u001b[0;32m    605\u001b[0m     \u001b[1;32melif\u001b[0m \u001b[0mmeth\u001b[0m \u001b[1;33m==\u001b[0m \u001b[1;34m'newton-cg'\u001b[0m\u001b[1;33m:\u001b[0m\u001b[1;33m\u001b[0m\u001b[1;33m\u001b[0m\u001b[0m\n\u001b[0;32m    606\u001b[0m         return _minimize_newtoncg(fun, x0, args, jac, hess, hessp, callback,\n",
      "\u001b[1;32mc:\\users\\david\\miniconda3\\lib\\site-packages\\scipy\\optimize\\optimize.py\u001b[0m in \u001b[0;36m_minimize_bfgs\u001b[1;34m(fun, x0, args, jac, callback, gtol, norm, eps, maxiter, disp, return_all, **unknown_options)\u001b[0m\n\u001b[0;32m   1001\u001b[0m     \u001b[0mfunc_calls\u001b[0m\u001b[1;33m,\u001b[0m \u001b[0mf\u001b[0m \u001b[1;33m=\u001b[0m \u001b[0mwrap_function\u001b[0m\u001b[1;33m(\u001b[0m\u001b[0mf\u001b[0m\u001b[1;33m,\u001b[0m \u001b[0margs\u001b[0m\u001b[1;33m)\u001b[0m\u001b[1;33m\u001b[0m\u001b[1;33m\u001b[0m\u001b[0m\n\u001b[0;32m   1002\u001b[0m \u001b[1;33m\u001b[0m\u001b[0m\n\u001b[1;32m-> 1003\u001b[1;33m     \u001b[0mold_fval\u001b[0m \u001b[1;33m=\u001b[0m \u001b[0mf\u001b[0m\u001b[1;33m(\u001b[0m\u001b[0mx0\u001b[0m\u001b[1;33m)\u001b[0m\u001b[1;33m\u001b[0m\u001b[1;33m\u001b[0m\u001b[0m\n\u001b[0m\u001b[0;32m   1004\u001b[0m \u001b[1;33m\u001b[0m\u001b[0m\n\u001b[0;32m   1005\u001b[0m     \u001b[1;32mif\u001b[0m \u001b[0mfprime\u001b[0m \u001b[1;32mis\u001b[0m \u001b[1;32mNone\u001b[0m\u001b[1;33m:\u001b[0m\u001b[1;33m\u001b[0m\u001b[1;33m\u001b[0m\u001b[0m\n",
      "\u001b[1;32mc:\\users\\david\\miniconda3\\lib\\site-packages\\scipy\\optimize\\optimize.py\u001b[0m in \u001b[0;36mfunction_wrapper\u001b[1;34m(*wrapper_args)\u001b[0m\n\u001b[0;32m    325\u001b[0m     \u001b[1;32mdef\u001b[0m \u001b[0mfunction_wrapper\u001b[0m\u001b[1;33m(\u001b[0m\u001b[1;33m*\u001b[0m\u001b[0mwrapper_args\u001b[0m\u001b[1;33m)\u001b[0m\u001b[1;33m:\u001b[0m\u001b[1;33m\u001b[0m\u001b[1;33m\u001b[0m\u001b[0m\n\u001b[0;32m    326\u001b[0m         \u001b[0mncalls\u001b[0m\u001b[1;33m[\u001b[0m\u001b[1;36m0\u001b[0m\u001b[1;33m]\u001b[0m \u001b[1;33m+=\u001b[0m \u001b[1;36m1\u001b[0m\u001b[1;33m\u001b[0m\u001b[1;33m\u001b[0m\u001b[0m\n\u001b[1;32m--> 327\u001b[1;33m         \u001b[1;32mreturn\u001b[0m \u001b[0mfunction\u001b[0m\u001b[1;33m(\u001b[0m\u001b[1;33m*\u001b[0m\u001b[1;33m(\u001b[0m\u001b[0mwrapper_args\u001b[0m \u001b[1;33m+\u001b[0m \u001b[0margs\u001b[0m\u001b[1;33m)\u001b[0m\u001b[1;33m)\u001b[0m\u001b[1;33m\u001b[0m\u001b[1;33m\u001b[0m\u001b[0m\n\u001b[0m\u001b[0;32m    328\u001b[0m \u001b[1;33m\u001b[0m\u001b[0m\n\u001b[0;32m    329\u001b[0m     \u001b[1;32mreturn\u001b[0m \u001b[0mncalls\u001b[0m\u001b[1;33m,\u001b[0m \u001b[0mfunction_wrapper\u001b[0m\u001b[1;33m\u001b[0m\u001b[1;33m\u001b[0m\u001b[0m\n",
      "\u001b[1;31mTypeError\u001b[0m: 'numpy.ndarray' object is not callable"
     ]
    }
   ],
   "source": [
    "Numpy_Optimize = minimize(dara, -1, 6)"
   ]
  },
  {
   "cell_type": "code",
   "execution_count": null,
   "metadata": {},
   "outputs": [],
   "source": []
  }
 ],
 "metadata": {
  "kernelspec": {
   "display_name": "Python 3",
   "language": "python",
   "name": "python3"
  },
  "language_info": {
   "codemirror_mode": {
    "name": "ipython",
    "version": 3
   },
   "file_extension": ".py",
   "mimetype": "text/x-python",
   "name": "python",
   "nbconvert_exporter": "python",
   "pygments_lexer": "ipython3",
   "version": "3.7.4"
  }
 },
 "nbformat": 4,
 "nbformat_minor": 4
}

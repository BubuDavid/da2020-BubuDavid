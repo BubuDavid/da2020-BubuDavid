{
 "cells": [
  {
   "cell_type": "markdown",
   "metadata": {},
   "source": [
    "# Consumo y prevalencia de alcohol 2016-2017"
   ]
  },
  {
   "cell_type": "markdown",
   "metadata": {},
   "source": [
    "Toda la información sobre los datos que se usan a continuación, se pueden encontrar en el siguiente link: https://www.gob.mx/salud%7Cconadic/acciones-y-programas/encuesta-nacional-de-consumo-de-drogas-alcohol-y-tabaco-encodat-2016-2017-136758"
   ]
  },
  {
   "cell_type": "code",
   "execution_count": 99,
   "metadata": {},
   "outputs": [],
   "source": [
    "# Importing important stuff\n",
    "import pandas as pd\n",
    "import numpy as np\n",
    "import matplotlib.pyplot as plt\n",
    "import folium"
   ]
  },
  {
   "cell_type": "markdown",
   "metadata": {},
   "source": [
    "Los datos están en un mismo excel, pero en distintas hojas, así que necesitamos tratarlas por separado."
   ]
  },
  {
   "cell_type": "markdown",
   "metadata": {},
   "source": [
    "## ¿A qué edad las personas comienzan a tomar?"
   ]
  },
  {
   "cell_type": "markdown",
   "metadata": {},
   "source": [
    "Algo que nos podría preocupar ciertamente es, la edad incial a la cual las personas empiezan a tomar alcohol, para ellos, elaboramos la tabla 3 como se sigue."
   ]
  },
  {
   "cell_type": "code",
   "execution_count": 96,
   "metadata": {},
   "outputs": [
    {
     "data": {
      "text/html": [
       "<div>\n",
       "<style scoped>\n",
       "    .dataframe tbody tr th:only-of-type {\n",
       "        vertical-align: middle;\n",
       "    }\n",
       "\n",
       "    .dataframe tbody tr th {\n",
       "        vertical-align: top;\n",
       "    }\n",
       "\n",
       "    .dataframe thead tr th {\n",
       "        text-align: left;\n",
       "    }\n",
       "\n",
       "    .dataframe thead tr:last-of-type th {\n",
       "        text-align: right;\n",
       "    }\n",
       "</style>\n",
       "<table border=\"1\" class=\"dataframe\">\n",
       "  <thead>\n",
       "    <tr>\n",
       "      <th></th>\n",
       "      <th colspan=\"3\" halign=\"left\">2011</th>\n",
       "      <th colspan=\"3\" halign=\"left\">2017</th>\n",
       "    </tr>\n",
       "    <tr>\n",
       "      <th></th>\n",
       "      <th>17 años o menos %</th>\n",
       "      <th>18 a 25 años %</th>\n",
       "      <th>26 a 65 años %</th>\n",
       "      <th>17 años o menos %</th>\n",
       "      <th>18 a 25 años %</th>\n",
       "      <th>26 a 65 años %</th>\n",
       "    </tr>\n",
       "    <tr>\n",
       "      <th>Sexo</th>\n",
       "      <th></th>\n",
       "      <th></th>\n",
       "      <th></th>\n",
       "      <th></th>\n",
       "      <th></th>\n",
       "      <th></th>\n",
       "    </tr>\n",
       "  </thead>\n",
       "  <tbody>\n",
       "    <tr>\n",
       "      <th>Hombres</th>\n",
       "      <td>64.9</td>\n",
       "      <td>33.0</td>\n",
       "      <td>2.1</td>\n",
       "      <td>61.5</td>\n",
       "      <td>36.5</td>\n",
       "      <td>2.0</td>\n",
       "    </tr>\n",
       "    <tr>\n",
       "      <th>Mujeres</th>\n",
       "      <td>43.3</td>\n",
       "      <td>46.1</td>\n",
       "      <td>10.6</td>\n",
       "      <td>43.1</td>\n",
       "      <td>47.1</td>\n",
       "      <td>9.8</td>\n",
       "    </tr>\n",
       "    <tr>\n",
       "      <th>Total</th>\n",
       "      <td>55.2</td>\n",
       "      <td>38.9</td>\n",
       "      <td>5.9</td>\n",
       "      <td>53.1</td>\n",
       "      <td>41.3</td>\n",
       "      <td>5.6</td>\n",
       "    </tr>\n",
       "  </tbody>\n",
       "</table>\n",
       "</div>"
      ],
      "text/plain": [
       "                     2011                                            2017  \\\n",
       "        17 años o menos % 18 a 25 años % 26 a 65 años % 17 años o menos %   \n",
       "Sexo                                                                        \n",
       "Hombres              64.9           33.0            2.1              61.5   \n",
       "Mujeres              43.3           46.1           10.6              43.1   \n",
       "Total                55.2           38.9            5.9              53.1   \n",
       "\n",
       "                                       \n",
       "        18 a 25 años % 26 a 65 años %  \n",
       "Sexo                                   \n",
       "Hombres           36.5            2.0  \n",
       "Mujeres           47.1            9.8  \n",
       "Total             41.3            5.6  "
      ]
     },
     "execution_count": 96,
     "metadata": {},
     "output_type": "execute_result"
    }
   ],
   "source": [
    "# Esta primera tabla es Necesidades de atención por el Consumo de Alcohol en la población de 12 a 65 años\n",
    "xls = pd.ExcelFile('./data/ENCODAT_ALCOHOL_2016_2017.xlsx')\n",
    "df1 = pd.read_excel(xls, 'Table 4', header=0, usecols=list(range(7)))\n",
    "alcoholData = []\n",
    "for column in df1:\n",
    "    alcoholData.append(list(df1[column]))\n",
    "alcoholData = np.array(alcoholData).T\n",
    "multi = [(\"Sexo\",\"\"),(\"2011\",\"17 años o menos %\"),(\"2011\", \"18 a 25 años %\"), (\"2011\",\"26 a 65 años %\"),(\"2017\", \"17 años o menos %\"), (\"2017\",\"18 a 25 años %\"),(\"2017\", \"26 a 65 años %\")]\n",
    "df1 = pd.DataFrame(alcoholData, columns=multi)\n",
    "df1.columns = pd.MultiIndex.from_tuples(df1.columns)\n",
    "df1 = df1.set_index(\"Sexo\")\n",
    "df1"
   ]
  },
  {
   "cell_type": "markdown",
   "metadata": {},
   "source": [
    "Aquí podemos ver los registros del 2011 y del 2017, comparemoslos en una gráfica"
   ]
  },
  {
   "cell_type": "code",
   "execution_count": 97,
   "metadata": {},
   "outputs": [
    {
     "data": {
      "image/png": "[encoded data removed]",
      "text/plain": [
       "<Figure size 504x360 with 1 Axes>"
      ]
     },
     "metadata": {
      "needs_background": "light"
     },
     "output_type": "display_data"
    }
   ],
   "source": [
    "fig, ax = plt.subplots(figsize = (7,5))\n",
    "x = [\"17 años o menos\",\"18 a 25 años\", \"26 a 65 años\"]\n",
    "hombres2011 = [64.9, 33.0, 2.1]\n",
    "mujeres2011 = [43.3, 46.1, 10.6]\n",
    "hombres2017 = [61.5, 36.5, 2.0]\n",
    "mujeres2017 = [43.1, 47.1, 9.8]\n",
    "ax.scatter(x, hombres2011, label=\"Hombres 2011\", color=\"#a1e6e3\", s=70, marker=\"s\")\n",
    "ax.scatter(x, mujeres2011, label=\"Mujeres 2011\", color=\"#eca0b6\", s=70, marker=\"s\")\n",
    "ax.scatter(x, hombres2017, label=\"Hombres 2017\", color=\"#9399ff\", s=70, marker=\"o\")\n",
    "ax.scatter(x, mujeres2017, label=\"Mujeres 2017\", color=\"#ff80b0\", s=70, marker=\"H\")\n",
    "plt.title(\"Primera vez que probaron el alcohol\", pad=20)\n",
    "ax.legend()\n",
    "plt.setp(ax.get_xticklabels(), rotation=40, ha=\"right\")\n",
    "ax.plot()\n",
    "aux = 1"
   ]
  },
  {
   "cell_type": "markdown",
   "metadata": {},
   "source": [
    "De la gráfica anterior, podemos observar que la mayoría de las personas, tanto hombres como mujeres, empiezan a tomar alcohol desde antes de los 18 años, esta es una edad en las personas son muy influenciables y puede ocasionar problemas en el futuro. Pero podemos notar algo interesante, y es que la cantidad de hombres que empezaron con el alcohol antes de los 17, en el 2011 es mayor a la cantidad del 2017, significa que algo ha pasado en ese transcurso del tiempo que ha llegado a disminuir el consumo en gente tan joven. O que nos faltan datos, mientras tanto, las mujeres siguen igual y de hecho sus gráficas no cambian significativamente en los años. "
   ]
  },
  {
   "cell_type": "markdown",
   "metadata": {},
   "source": [
    "Esta base de datos también nos proporciona información por regiones, de ahí nos podemos realizar algunas preguntas interesantes como:"
   ]
  },
  {
   "cell_type": "markdown",
   "metadata": {},
   "source": [
    "## ¿Cuál es la zona o región donde más alcohol se consume?"
   ]
  },
  {
   "cell_type": "code",
   "execution_count": 101,
   "metadata": {},
   "outputs": [
    {
     "data": {
      "text/html": [
       "<div>\n",
       "<style scoped>\n",
       "    .dataframe tbody tr th:only-of-type {\n",
       "        vertical-align: middle;\n",
       "    }\n",
       "\n",
       "    .dataframe tbody tr th {\n",
       "        vertical-align: top;\n",
       "    }\n",
       "\n",
       "    .dataframe thead tr th {\n",
       "        text-align: left;\n",
       "    }\n",
       "\n",
       "    .dataframe thead tr:last-of-type th {\n",
       "        text-align: right;\n",
       "    }\n",
       "</style>\n",
       "<table border=\"1\" class=\"dataframe\">\n",
       "  <thead>\n",
       "    <tr>\n",
       "      <th></th>\n",
       "      <th colspan=\"2\" halign=\"left\">2011</th>\n",
       "      <th colspan=\"2\" halign=\"left\">2017</th>\n",
       "    </tr>\n",
       "    <tr>\n",
       "      <th></th>\n",
       "      <th>Consumo Excesivo en el Último Año</th>\n",
       "      <th>Consumo Excesivo en el Último Mes</th>\n",
       "      <th>Consumo Excesivo en el Último Año</th>\n",
       "      <th>Consumo Excesivo en el Último Mes</th>\n",
       "    </tr>\n",
       "    <tr>\n",
       "      <th>Región</th>\n",
       "      <th></th>\n",
       "      <th></th>\n",
       "      <th></th>\n",
       "      <th></th>\n",
       "    </tr>\n",
       "  </thead>\n",
       "  <tbody>\n",
       "    <tr>\n",
       "      <th>Norcentral</th>\n",
       "      <td>32.4</td>\n",
       "      <td>18.8</td>\n",
       "      <td>35.8</td>\n",
       "      <td>25.0</td>\n",
       "    </tr>\n",
       "    <tr>\n",
       "      <th>Noroccidental</th>\n",
       "      <td>35.0</td>\n",
       "      <td>20.0</td>\n",
       "      <td>33.8</td>\n",
       "      <td>22.5</td>\n",
       "    </tr>\n",
       "    <tr>\n",
       "      <th>Nororiental</th>\n",
       "      <td>29.3</td>\n",
       "      <td>19.5</td>\n",
       "      <td>33.7</td>\n",
       "      <td>24.7</td>\n",
       "    </tr>\n",
       "    <tr>\n",
       "      <th>Occidental</th>\n",
       "      <td>24.3</td>\n",
       "      <td>10.5</td>\n",
       "      <td>42.0</td>\n",
       "      <td>26.3</td>\n",
       "    </tr>\n",
       "    <tr>\n",
       "      <th>Centro</th>\n",
       "      <td>28.9</td>\n",
       "      <td>9.0</td>\n",
       "      <td>32.6</td>\n",
       "      <td>17.5</td>\n",
       "    </tr>\n",
       "    <tr>\n",
       "      <th>Ciudad de México</th>\n",
       "      <td>26.0</td>\n",
       "      <td>9.8</td>\n",
       "      <td>37.0</td>\n",
       "      <td>18.5</td>\n",
       "    </tr>\n",
       "    <tr>\n",
       "      <th>Centro Sur</th>\n",
       "      <td>26.8</td>\n",
       "      <td>10.8</td>\n",
       "      <td>30.8</td>\n",
       "      <td>15.7</td>\n",
       "    </tr>\n",
       "    <tr>\n",
       "      <th>Sur</th>\n",
       "      <td>21.9</td>\n",
       "      <td>10.7</td>\n",
       "      <td>28.3</td>\n",
       "      <td>16.8</td>\n",
       "    </tr>\n",
       "    <tr>\n",
       "      <th>Nacional</th>\n",
       "      <td>28.0</td>\n",
       "      <td>12.3</td>\n",
       "      <td>33.6</td>\n",
       "      <td>19.8</td>\n",
       "    </tr>\n",
       "  </tbody>\n",
       "</table>\n",
       "</div>"
      ],
      "text/plain": [
       "                                              2011  \\\n",
       "                 Consumo Excesivo en el Último Año   \n",
       "Región                                               \n",
       "Norcentral                                    32.4   \n",
       "Noroccidental                                 35.0   \n",
       "Nororiental                                   29.3   \n",
       "Occidental                                    24.3   \n",
       "Centro                                        28.9   \n",
       "Ciudad de México                              26.0   \n",
       "Centro Sur                                    26.8   \n",
       "Sur                                           21.9   \n",
       "Nacional                                      28.0   \n",
       "\n",
       "                                                    \\\n",
       "                 Consumo Excesivo en el Último Mes   \n",
       "Región                                               \n",
       "Norcentral                                    18.8   \n",
       "Noroccidental                                 20.0   \n",
       "Nororiental                                   19.5   \n",
       "Occidental                                    10.5   \n",
       "Centro                                         9.0   \n",
       "Ciudad de México                               9.8   \n",
       "Centro Sur                                    10.8   \n",
       "Sur                                           10.7   \n",
       "Nacional                                      12.3   \n",
       "\n",
       "                                              2017  \\\n",
       "                 Consumo Excesivo en el Último Año   \n",
       "Región                                               \n",
       "Norcentral                                    35.8   \n",
       "Noroccidental                                 33.8   \n",
       "Nororiental                                   33.7   \n",
       "Occidental                                    42.0   \n",
       "Centro                                        32.6   \n",
       "Ciudad de México                              37.0   \n",
       "Centro Sur                                    30.8   \n",
       "Sur                                           28.3   \n",
       "Nacional                                      33.6   \n",
       "\n",
       "                                                    \n",
       "                 Consumo Excesivo en el Último Mes  \n",
       "Región                                              \n",
       "Norcentral                                    25.0  \n",
       "Noroccidental                                 22.5  \n",
       "Nororiental                                   24.7  \n",
       "Occidental                                    26.3  \n",
       "Centro                                        17.5  \n",
       "Ciudad de México                              18.5  \n",
       "Centro Sur                                    15.7  \n",
       "Sur                                           16.8  \n",
       "Nacional                                      19.8  "
      ]
     },
     "execution_count": 101,
     "metadata": {},
     "output_type": "execute_result"
    }
   ],
   "source": [
    "# Esta primera tabla es Necesidades de atención por el Consumo de Alcohol en la población de 12 a 65 años\n",
    "xls = pd.ExcelFile('./data/ENCODAT_ALCOHOL_2016_2017.xlsx')\n",
    "df2 = pd.read_excel(xls, 'Table 8', header=1, usecols=list(range(5)))\n",
    "alcoholData = []\n",
    "for column in df2:\n",
    "    alcoholData.append(list(df2[column]))\n",
    "alcoholData = np.array(alcoholData).T\n",
    "multi = [(\"Región\",\"\"),(\"2011\",\"Consumo Excesivo en el Último Año\"),(\"2011\", \"Consumo Excesivo en el Último Mes\"), (\"2017\",\"Consumo Excesivo en el Último Año\"),(\"2017\", \"Consumo Excesivo en el Último Mes\")]\n",
    "df2 = pd.DataFrame(alcoholData, columns=multi)\n",
    "df2.columns = pd.MultiIndex.from_tuples(df2.columns)\n",
    "df2 = df2.set_index(\"Región\")\n",
    "df2"
   ]
  },
  {
   "cell_type": "code",
   "execution_count": 229,
   "metadata": {},
   "outputs": [],
   "source": [
    "NO = [\n",
    "    {\"nombre\":\"Baja California\", \"lat\":30.8406, \"lon\":-115.2838, \"2011\":{\"CEUA\": 35.0, \"CEUM\":20.0}, \"2017\":{\"CEUA\": 33.8, \"CEUM\": 22.5}},\n",
    "    {\"nombre\": \"Baja California Sur\",\"lat\":25.846111, \"lon\":-111.972778, \"2011\":{\"CEUA\": 35.0, \"CEUM\":20.0}, \"2017\":{\"CEUA\": 33.8, \"CEUM\": 22.5}},\n",
    "    {\"nombre\": \"Chihuahua\", \"lat\":28.814167, \"lon\":-106.439444, \"2011\":{\"CEUA\": 35.0, \"CEUM\":20.0}, \"2017\":{\"CEUA\": 33.8, \"CEUM\": 22.5}},\n",
    "    {\"nombre\": \"Durango\", \"lat\":24.934722, \"lon\":-104.911944, \"2011\":{\"CEUA\": 35.0, \"CEUM\":20.0}, \"2017\":{\"CEUA\": 33.8, \"CEUM\": 22.5}},\n",
    "    {\"nombre\": \"Sinaloa\", \"lat\":25.002778, \"lon\":-107.502778, \"2011\":{\"CEUA\": 35.0, \"CEUM\":20.0}, \"2017\":{\"CEUA\": 33.8, \"CEUM\": 22.5}},\n",
    "    {\"nombre\": \"Sonora\", \"lat\":29.646111, \"lon\":-110.868889, \"2011\":{\"CEUA\": 35.0, \"CEUM\":20.0}, \"2017\":{\"CEUA\": 33.8, \"CEUM\": 22.5}},\n",
    "]\n",
    "NE = [\n",
    "    {\"nombre\":\"Coahuila\",\"lat\":27.302222,\"lon\":-102.044722,\"2011\":{\"CEUA\":29.3,\"CEUM\":19.5}, \"2017\":{\"CEUA\":33.7,\"CEUM\":24.7}},\n",
    "    {\"nombre\":\"Nuevo Leon\",\"lat\":25.566667,\"lon\":-99.970556,\"2011\":{\"CEUA\":29.3,\"CEUM\":19.5}, \"2017\":{\"CEUA\":33.7,\"CEUM\":24.7}},\n",
    "    {\"nombre\":\"Tamaulipas\",\"lat\":24.287222,\"lon\":-98.563333,\"2011\":{\"CEUA\":29.3,\"CEUM\":19.5}, \"2017\":{\"CEUA\":33.7,\"CEUM\":24.7}}\n",
    "]\n",
    "O = [\n",
    "    {\"nombre\":\"Colima\",\"lat\":19.096667,\"lon\":-103.960833,\"2011\":{\"CEUA\":24.3,\"CEUM\":10.5}, \"2017\":{\"CEUA\":42.0,\"CEUM\":26.3}},\n",
    "    {\"nombre\":\"jalisco\",\"lat\":20.566667,\"lon\":-103.676389,\"2011\":{\"CEUA\":24.3,\"CEUM\":10.5}, \"2017\":{\"CEUA\":42.0,\"CEUM\":26.3}},\n",
    "    {\"nombre\":\"Michoacan\",\"lat\":19.168611,\"lon\":-101.899722,\"2011\":{\"CEUA\":24.3,\"CEUM\":10.5}, \"2017\":{\"CEUA\":42.0,\"CEUM\":26.3}},\n",
    "    {\"nombre\":\"Nayarit\",\"lat\":21.743889,\"lon\":-105.228333,\"2011\":{\"CEUA\":24.3,\"CEUM\":10.5}, \"2017\":{\"CEUA\":42.0,\"CEUM\":26.3}}\n",
    "]\n",
    "Norcentro = [\n",
    "    {\"nombre\":\"Aguascalientes\",\"lat\":22.021667,\"lon\":-102.356389,\"2011\":{\"CEUA\": 32.4,\"CEUM\": 19.8}, \"2017\":{\"CEUA\":35.8,\"CEUM\":25.0}},\n",
    "    {\"nombre\":\"Guanajuato\",\"lat\":21.018889,\"lon\":-101.262778,\"2011\":{\"CEUA\": 32.4,\"CEUM\": 19.8}, \"2017\":{\"CEUA\":35.8,\"CEUM\":25.0}},\n",
    "    {\"nombre\":\"Queretaro\",\"lat\":20.591,\"lon\":-100.391,\"2011\":{\"CEUA\": 32.4,\"CEUM\": 19.8}, \"2017\":{\"CEUA\":35.8,\"CEUM\":25.0}},\n",
    "    {\"nombre\":\"San Luis Potosi\",\"lat\":22.603333,\"lon\":-100.429722,\"2011\":{\"CEUA\": 32.4,\"CEUM\": 19.8}, \"2017\":{\"CEUA\":35.8,\"CEUM\":25.0}},\n",
    "    {\"nombre\":\"Zacatecas\",\"lat\":23.292778,\"lon\":-102.700556,\"2011\":{\"CEUA\": 32.4,\"CEUM\": 19.8}, \"2017\":{\"CEUA\":35.8,\"CEUM\":25.0}},\n",
    "]\n",
    "CentroSur = [\n",
    "    {\"nombre\":\"Estado de Mexico\",\"lat\":19.354167,\"lon\":-99.630833,\"2011\":{\"CEUA\": 26.8,\"CEUM\": 10.8}, \"2017\":{\"CEUA\":30.8,\"CEUM\":15.7}},\n",
    "    {\"nombre\":\"Morelos\",\"lat\":18.7475,\"lon\":-99.070278,\"2011\":{\"CEUA\": 26.8,\"CEUM\": 10.8}, \"2017\":{\"CEUA\":30.8,\"CEUM\":15.7}}\n",
    "]\n",
    "CDMX = [\n",
    "    {\"nombre\":\"Ciudad de Mexico\",\"lat\":19.419444,\"lon\":-99.145556,\"2011\":{\"CEUA\":26.0,\"CEUM\":9.8}, \"2017\":{\"CEUA\":37.0,\"CEUM\":18.5}}\n",
    "]\n",
    "Sur = [\n",
    "    {\"nombre\":\"Chiapas\",\"lat\":16.41,\"lon\":-92.408611,\"2011\":{\"CEUA\": 21.9,\"CEUM\": 10.7}, \"2017\":{\"CEUA\":28.3,\"CEUM\":16.8}},\n",
    "    {\"nombre\":\"Estado de Guerrero\",\"lat\":17.613056,\"lon\":-99.95,\"2011\":{\"CEUA\": 21.9,\"CEUM\": 10.7}, \"2017\":{\"CEUA\":28.3,\"CEUM\":16.8}},\n",
    "    {\"nombre\":\"Oaxaca\",\"lat\":16.898056,\"lon\":-96.414167,\"2011\":{\"CEUA\": 21.9,\"CEUM\": 10.7}, \"2017\":{\"CEUA\":28.3,\"CEUM\":16.8}},\n",
    "    {\"nombre\":\"Campeche\",\"lat\":18.836389,\"lon\":-90.403333,\"2011\":{\"CEUA\": 21.9,\"CEUM\": 10.7}, \"2017\":{\"CEUA\":28.3,\"CEUM\":16.8}},\n",
    "    {\"nombre\":\"Quintana Roo\",\"lat\":19.6,\"lon\":-87.916667,\"2011\":{\"CEUA\": 21.9,\"CEUM\": 10.7}, \"2017\":{\"CEUA\":28.3,\"CEUM\":16.8}},\n",
    "    {\"nombre\":\"Tabasco\",\"lat\":17.972222,\"lon\":-92.588889,\"2011\":{\"CEUA\": 21.9,\"CEUM\": 10.7}, \"2017\":{\"CEUA\":28.3,\"CEUM\":16.8}},\n",
    "    {\"nombre\":\"Yucatan\",\"lat\":20.833333,\"lon\":-89,\"2011\":{\"CEUA\": 21.9,\"CEUM\": 10.7}, \"2017\":{\"CEUA\":28.3,\"CEUM\":16.8}},\n",
    "\n",
    "]\n",
    "\n",
    "Este = [\n",
    "    {\"nombre\":\"Estado de Hidalgo\",\"lat\":20.478333,\"lon\":-98.863611,\"2011\":{\"CEUA\": 28.9,\"CEUM\": 9.0}, \"2017\":{\"CEUA\":32.6,\"CEUM\":17.5}},\n",
    "    {\"nombre\":\"Puebla\",\"lat\":19.003611,\"lon\":-97.888333,\"2011\":{\"CEUA\": 28.9,\"CEUM\": 9.0}, \"2017\":{\"CEUA\":32.6,\"CEUM\":17.5}},\n",
    "    {\"nombre\":\"Tlaxcala\",\"lat\":19.428889,\"lon\":-98.160833,\"2011\":{\"CEUA\": 28.9,\"CEUM\": 9.0}, \"2017\":{\"CEUA\":32.6,\"CEUM\":17.5}},\n",
    "    {\"nombre\":\"Veracruz \",\"lat\":19.434722,\"lon\":-96.383056,\"2011\":{\"CEUA\": 28.9,\"CEUM\": 9.0}, \"2017\":{\"CEUA\":32.6,\"CEUM\":17.5}},\n",
    "\n",
    "]"
   ]
  },
  {
   "cell_type": "code",
   "execution_count": 236,
   "metadata": {},
   "outputs": [],
   "source": [
    "# Center the map\n",
    "cLat, cLon = 23.59, -101.73\n",
    "\n",
    "# Create the map\n",
    "foliumMap = folium.Map(location=[cLat, cLon], zoom_start=5, tiles=\"cartodb positron\")\n",
    "\n",
    "# Full the map with data above\n",
    "for row in NO:\n",
    "    #print(row['lat'])\n",
    "    #print(\"---------------\")\n",
    "    # Generating the map and the format\n",
    "    popup_text = \"<b>Nombre:</b> {} <br> <b>Consumo Excesivo en el Ultimo Year:</b> {}% <br> <b>Consumo Excesivo en el Ultimo Mes:</b> {}%\".format(row[\"nombre\"], row[\"2011\"][\"CEUA\"], row[\"2011\"][\"CEUM\"])\n",
    "    # Adding Marks\n",
    "    folium.CircleMarker(location=[row['lat'], row['lon']], radius=15, tooltip=popup_text, fill=True, fill_opacity=0.4, color=\"#ff5e0e\").add_to(foliumMap)\n",
    "for row in NE:\n",
    "    #print(row['lat'])\n",
    "    #print(\"---------------\")\n",
    "    # Generating the map and the format\n",
    "    popup_text = \"<b>Nombre:</b> {} <br> <b>Consumo Excesivo en el Ultimo Year:</b> {}% <br> <b>Consumo Excesivo en el Ultimo Mes:</b> {}%\".format(row[\"nombre\"], row[\"2011\"][\"CEUA\"], row[\"2011\"][\"CEUM\"])\n",
    "    # Adding Marks\n",
    "    folium.CircleMarker(location=[row['lat'], row['lon']], radius=14, tooltip=popup_text, fill=True, fill_opacity=0.4, color=\"#f55656\").add_to(foliumMap)\n",
    "\n",
    "for row in O:\n",
    "    #print(row['lat'])\n",
    "    #print(\"---------------\")\n",
    "    # Generating the map and the format\n",
    "    popup_text = \"<b>Nombre:</b> {} <br> <b>Consumo Excesivo en el Ultimo Year:</b> {}% <br> <b>Consumo Excesivo en el Ultimo Mes:</b> {}%\".format(row[\"nombre\"], row[\"2011\"][\"CEUA\"], row[\"2011\"][\"CEUM\"])\n",
    "    # Adding Marks\n",
    "    folium.CircleMarker(location=[row['lat'], row['lon']], radius=7, tooltip=popup_text, fill=True, fill_opacity=0.4, color=\"#c7ff0e\").add_to(foliumMap)\n",
    "    \n",
    "for row in CDMX:\n",
    "    #print(row['lat'])\n",
    "    #print(\"---------------\")\n",
    "    # Generating the map and the format\n",
    "    popup_text = \"<b>Nombre:</b> {} <br> <b>Consumo Excesivo en el Ultimo Year:</b> {}% <br> <b>Consumo Excesivo en el Ultimo Mes:</b> {}%\".format(row[\"nombre\"], row[\"2011\"][\"CEUA\"], row[\"2011\"][\"CEUM\"])\n",
    "    # Adding Marks\n",
    "    folium.CircleMarker(location=[row['lat'], row['lon']], radius=8, tooltip=popup_text, fill=True, fill_opacity=0.4, color=\"#ffeb0e\").add_to(foliumMap)\n",
    "\n",
    "for row in Norcentro:\n",
    "    #print(row['lat'])\n",
    "    #print(\"---------------\")\n",
    "    # Generating the map and the format\n",
    "    popup_text = \"<b>Nombre:</b> {} <br> <b>Consumo Excesivo en el Ultimo Year:</b> {}% <br> <b>Consumo Excesivo en el Ultimo Mes:</b> {}%\".format(row[\"nombre\"], row[\"2011\"][\"CEUA\"], row[\"2011\"][\"CEUM\"])\n",
    "    # Adding Marks\n",
    "    folium.CircleMarker(location=[row['lat'], row['lon']], radius=17, tooltip=popup_text, fill=True, fill_opacity=0.4, color=\"#ff3a0e\").add_to(foliumMap)\n",
    "\n",
    "for row in CentroSur:\n",
    "    #print(row['lat'])\n",
    "    #print(\"---------------\")\n",
    "    # Generating the map and the format\n",
    "    popup_text = \"<b>Nombre:</b> {} <br> <b>Consumo Excesivo en el Ultimo Year:</b> {}% <br> <b>Consumo Excesivo en el Ultimo Mes:</b> {}%\".format(row[\"nombre\"], row[\"2011\"][\"CEUA\"], row[\"2011\"][\"CEUM\"])\n",
    "    # Adding Marks\n",
    "    folium.CircleMarker(location=[row['lat'], row['lon']], radius=10, tooltip=popup_text, fill=True, fill_opacity=0.4, color=\"#ffcf0e\").add_to(foliumMap)\n",
    "\n",
    "for row in Sur:\n",
    "    #print(row['lat'])\n",
    "    #print(\"---------------\")\n",
    "    # Generating the map and the format\n",
    "    popup_text = \"<b>Nombre:</b> {} <br> <b>Consumo Excesivo en el Ultimo Year:</b> {}% <br> <b>Consumo Excesivo en el Ultimo Mes:</b> {}%\".format(row[\"nombre\"], row[\"2011\"][\"CEUA\"], row[\"2011\"][\"CEUM\"])\n",
    "    # Adding Marks\n",
    "    folium.CircleMarker(location=[row['lat'], row['lon']], radius=4, tooltip=popup_text, fill=True, fill_opacity=0.4, color=\"#82ff0e\").add_to(foliumMap)\n",
    "\n",
    "for row in Este:\n",
    "    #print(row['lat'])\n",
    "    #print(\"---------------\")\n",
    "    # Generating the map and the format\n",
    "    popup_text = \"<b>Nombre:</b> {} <br> <b>Consumo Excesivo en el Ultimo Year:</b> {}% <br> <b>Consumo Excesivo en el Ultimo Mes:</b> {}%\".format(row[\"nombre\"], row[\"2011\"][\"CEUA\"], row[\"2011\"][\"CEUM\"])\n",
    "    # Adding Marks\n",
    "    folium.CircleMarker(location=[row['lat'], row['lon']], radius=13, tooltip=popup_text, fill=True, fill_opacity=0.4, color=\"#ffa30e\").add_to(foliumMap)\n"
   ]
  },
  {
   "cell_type": "code",
   "execution_count": 254,
   "metadata": {},
   "outputs": [],
   "source": [
    "# Center the map\n",
    "cLat, cLon = 23.59, -101.73\n",
    "\n",
    "# Create the map\n",
    "foliumMap2017 = folium.Map(location=[cLat, cLon], zoom_start=5, tiles=\"cartodb positron\")\n",
    "\n",
    "# Full the map with data above\n",
    "for row in NO:\n",
    "    #print(row['lat'])\n",
    "    #print(\"---------------\")\n",
    "    # Generating the map and the format\n",
    "    popup_text = \"<b>Nombre:</b> {} <br> <b>Consumo Excesivo en el Ultimo Year:</b> {}% <br> <b>Consumo Excesivo en el Ultimo Mes:</b> {}%\".format(row[\"nombre\"], row[\"2017\"][\"CEUA\"], row[\"2017\"][\"CEUM\"])\n",
    "    # Adding Marks\n",
    "    folium.CircleMarker(location=[row['lat'], row['lon']], radius=15, tooltip=popup_text, fill=True, fill_opacity=0.4, color=\"#ff760e\").add_to(foliumMap2017)\n",
    "\n",
    "for row in NE:\n",
    "    #print(row['lat'])\n",
    "    #print(\"---------------\")\n",
    "    # Generating the map and the format\n",
    "    popup_text = \"<b>Nombre:</b> {} <br> <b>Consumo Excesivo en el Ultimo Year:</b> {}% <br> <b>Consumo Excesivo en el Ultimo Mes:</b> {}%\".format(row[\"nombre\"], row[\"2017\"][\"CEUA\"], row[\"2017\"][\"CEUM\"])\n",
    "    # Adding Marks\n",
    "    folium.CircleMarker(location=[row['lat'], row['lon']], radius=14, tooltip=popup_text, fill=True, fill_opacity=0.4, color=\"#ff760e\").add_to(foliumMap2017)\n",
    "\n",
    "for row in O:\n",
    "    #print(row['lat'])\n",
    "    #print(\"---------------\")\n",
    "    # Generating the map and the format\n",
    "    popup_text = \"<b>Nombre:</b> {} <br> <b>Consumo Excesivo en el Ultimo Year:</b> {}% <br> <b>Consumo Excesivo en el Ultimo Mes:</b> {}%\".format(row[\"nombre\"], row[\"2017\"][\"CEUA\"], row[\"2017\"][\"CEUM\"])\n",
    "    # Adding Marks\n",
    "    folium.CircleMarker(location=[row['lat'], row['lon']], radius=20, tooltip=popup_text, fill=True, fill_opacity=0.4, color=\"#ff0e0e\").add_to(foliumMap2017)\n",
    "    \n",
    "for row in CDMX:\n",
    "    #print(row['lat'])\n",
    "    #print(\"---------------\")\n",
    "    # Generating the map and the format\n",
    "    popup_text = \"<b>Nombre:</b> {} <br> <b>Consumo Excesivo en el Ultimo Year:</b> {}% <br> <b>Consumo Excesivo en el Ultimo Mes:</b> {}%\".format(row[\"nombre\"], row[\"2017\"][\"CEUA\"], row[\"2017\"][\"CEUM\"])\n",
    "    # Adding Marks\n",
    "    folium.CircleMarker(location=[row['lat'], row['lon']], radius=18, tooltip=popup_text, fill=True, fill_opacity=0.4, color=\"#ff360e\").add_to(foliumMap2017)\n",
    "\n",
    "for row in Norcentro:\n",
    "    #print(row['lat'])\n",
    "    #print(\"---------------\")\n",
    "    # Generating the map and the format\n",
    "    popup_text = \"<b>Nombre:</b> {} <br> <b>Consumo Excesivo en el Ultimo Year:</b> {}% <br> <b>Consumo Excesivo en el Ultimo Mes:</b> {}%\".format(row[\"nombre\"], row[\"2017\"][\"CEUA\"], row[\"2017\"][\"CEUM\"])\n",
    "    # Adding Marks\n",
    "    folium.CircleMarker(location=[row['lat'], row['lon']], radius=17, tooltip=popup_text, fill=True, fill_opacity=0.4, color=\"#ff760e\").add_to(foliumMap2017)\n",
    "\n",
    "for row in CentroSur:\n",
    "    #print(row['lat'])\n",
    "    #print(\"---------------\")\n",
    "    # Generating the map and the format\n",
    "    popup_text = \"<b>Nombre:</b> {} <br> <b>Consumo Excesivo en el Ultimo Year:</b> {}% <br> <b>Consumo Excesivo en el Ultimo Mes:</b> {}%\".format(row[\"nombre\"], row[\"2017\"][\"CEUA\"], row[\"2017\"][\"CEUM\"])\n",
    "    # Adding Marks\n",
    "    folium.CircleMarker(location=[row['lat'], row['lon']], radius=10, tooltip=popup_text, fill=True, fill_opacity=0.4, color=\"#ffcb0e\").add_to(foliumMap2017)\n",
    "\n",
    "for row in Sur:\n",
    "    #print(row['lat'])\n",
    "    #print(\"---------------\")\n",
    "    # Generating the map and the format\n",
    "    popup_text = \"<b>Nombre:</b> {} <br> <b>Consumo Excesivo en el Ultimo Year:</b> {}% <br> <b>Consumo Excesivo en el Ultimo Mes:</b> {}%\".format(row[\"nombre\"], row[\"2017\"][\"CEUA\"], row[\"2017\"][\"CEUM\"])\n",
    "    # Adding Marks\n",
    "    folium.CircleMarker(location=[row['lat'], row['lon']], radius=8, tooltip=popup_text, fill=True, fill_opacity=0.4, color=\"#e3ff0e\").add_to(foliumMap2017)\n",
    "\n",
    "for row in Este:\n",
    "    #print(row['lat'])\n",
    "    #print(\"---------------\")\n",
    "    # Generating the map and the format\n",
    "    popup_text = \"<b>Nombre:</b> {} <br> <b>Consumo Excesivo en el Ultimo Year:</b> {}% <br> <b>Consumo Excesivo en el Ultimo Mes:</b> {}%\".format(row[\"nombre\"], row[\"2017\"][\"CEUA\"], row[\"2017\"][\"CEUM\"])\n",
    "    # Adding Marks\n",
    "    folium.CircleMarker(location=[row['lat'], row['lon']], radius=12, tooltip=popup_text, fill=True, fill_opacity=0.4, color=\"#ff9f0e\").add_to(foliumMap2017)\n"
   ]
  },
  {
   "cell_type": "markdown",
   "metadata": {},
   "source": [
    "## Mapa de consumo excesivo en el último año y mes del 2011 "
   ]
  },
  {
   "cell_type": "code",
   "execution_count": 256,
   "metadata": {},
   "outputs": [
    {
     "data": {
      "text/html": [
       "<div style=\"width:100%;\"><div style=\"position:relative;width:100%;height:0;padding-bottom:60%;\"><iframe src=\"about:blank\" style=\"position:absolute;width:100%;height:100%;left:0;top:0;border:none !important;\" data-html=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 onload=\"this.contentDocument.open();this.contentDocument.write(atob(this.getAttribute('data-html')));this.contentDocument.close();\" allowfullscreen webkitallowfullscreen mozallowfullscreen></iframe></div></div>"
      ],
      "text/plain": [
       "<folium.folium.Map at 0x21cc588abc8>"
      ]
     },
     "execution_count": 256,
     "metadata": {},
     "output_type": "execute_result"
    }
   ],
   "source": [
    "# Deploy the map\n",
    "foliumMap"
   ]
  },
  {
   "cell_type": "markdown",
   "metadata": {},
   "source": [
    "## Mapa de consumo excesivo en el último año y mes del 2017"
   ]
  },
  {
   "cell_type": "code",
   "execution_count": 255,
   "metadata": {
    "scrolled": false
   },
   "outputs": [
    {
     "data": {
      "text/html": [
       "<div style=\"width:100%;\"><div style=\"position:relative;width:100%;height:0;padding-bottom:60%;\"><iframe src=\"about:blank\" style=\"position:absolute;width:100%;height:100%;left:0;top:0;border:none !important;\" data-html=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 onload=\"this.contentDocument.open();this.contentDocument.write(atob(this.getAttribute('data-html')));this.contentDocument.close();\" allowfullscreen webkitallowfullscreen mozallowfullscreen></iframe></div></div>"
      ],
      "text/plain": [
       "<folium.folium.Map at 0x21cc61b3e88>"
      ]
     },
     "execution_count": 255,
     "metadata": {},
     "output_type": "execute_result"
    }
   ],
   "source": [
    "# Deploy the map\n",
    "foliumMap2017"
   ]
  },
  {
   "cell_type": "markdown",
   "metadata": {},
   "source": [
    "Notemos las diferencias en los mapas del 2011 y del 2017, es impresionante como subió el Oeste del país, desconozco las razones o qué pasó en ese periodo, sin embargo localmente en esa zona, subió de una manera increíblemente grande. De manera global, todo el país subió un poco en su consumo excesivo, lo cual es preocupante, esto combinado con que la gran mayoría de las personas en México empiezan a tomar desde antes de los 17 hace que reflexionemos."
   ]
  },
  {
   "cell_type": "code",
   "execution_count": null,
   "metadata": {},
   "outputs": [],
   "source": []
  }
 ],
 "metadata": {
  "kernelspec": {
   "display_name": "Python 3",
   "language": "python",
   "name": "python3"
  },
  "language_info": {
   "codemirror_mode": {
    "name": "ipython",
    "version": 3
   },
   "file_extension": ".py",
   "mimetype": "text/x-python",
   "name": "python",
   "nbconvert_exporter": "python",
   "pygments_lexer": "ipython3",
   "version": "3.7.4"
  }
 },
 "nbformat": 4,
 "nbformat_minor": 4
}

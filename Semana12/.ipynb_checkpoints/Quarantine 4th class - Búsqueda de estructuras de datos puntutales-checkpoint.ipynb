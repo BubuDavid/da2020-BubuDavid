{
 "cells": [
  {
   "cell_type": "markdown",
   "metadata": {},
   "source": [
    "## Ejercicio"
   ]
  },
  {
   "cell_type": "markdown",
   "metadata": {},
   "source": [
    "- Generar una distribución de puntos aleatoria en una caja de lado L.\n",
    "- Calcular la funciónd de correlación y verificar que en el cubo generado, ésta es cero.\n",
    "- Que el programe funcione en 2 y 3 dimensiones.\n",
    "- Usar el código para calcular 2PCF en el conjunto de datos que nos proporcionará\n",
    "- ¿Cómo haría más eficiente el cálculo?"
   ]
  },
  {
   "cell_type": "markdown",
   "metadata": {},
   "source": [
    "### Inicialización"
   ]
  },
  {
   "cell_type": "code",
   "execution_count": 26,
   "metadata": {},
   "outputs": [],
   "source": [
    "import numpy as np\n",
    "import matplotlib as mplt\n",
    "import matplotlib.pyplot as plt\n",
    "from mpl_toolkits.mplot3d import Axes3D # <--- This is important for 3d plotting \n",
    "import math"
   ]
  },
  {
   "cell_type": "markdown",
   "metadata": {},
   "source": [
    "### Códigos de cálculos"
   ]
  },
  {
   "cell_type": "markdown",
   "metadata": {},
   "source": [
    "#### Generar una distribución de puntos aleatorios en un cubo de lado L"
   ]
  },
  {
   "cell_type": "code",
   "execution_count": 152,
   "metadata": {},
   "outputs": [],
   "source": [
    "def generateCubeRandom(L, seed= False, numeroPuntos=5):\n",
    "    '''\n",
    "    Descripción: Función que genera puntos aleatorios dentro de un cubo.\n",
    "    IN = {\n",
    "        L: El tamaño de los lados del cubo\n",
    "        seed: Una seed para tener datos consistentes, si es False entonces es 100% random\n",
    "        numeroPuntos: El número de puntos que queremos generar\n",
    "    }\n",
    "    OUT: Una lista de puntos aleatorios dentro del cubo de lado L\n",
    "    '''\n",
    "    if seed:\n",
    "        np.random.seed(seed)\n",
    "        \n",
    "    x = [np.random.uniform(0, L) for punto in range(numeroPuntos)]\n",
    "    y = [np.random.uniform(0, L) for punto in range(numeroPuntos)]\n",
    "    z = [np.random.uniform(0, L) for punto in range(numeroPuntos)]\n",
    "    \n",
    "    return [x,y,z]"
   ]
  },
  {
   "cell_type": "markdown",
   "metadata": {},
   "source": [
    "#### Función de correlación"
   ]
  },
  {
   "cell_type": "code",
   "execution_count": 186,
   "metadata": {},
   "outputs": [],
   "source": [
    "def correlacionFuncion(coordenadas, r, L, d):\n",
    "    '''\n",
    "    Descripción: Calcula la función de correlación de unos puntos dados\n",
    "    IN = {\n",
    "        coordenadas: Lista de coordenadas en 2 o 3 dimensiones.\n",
    "        r: Parámetro de distancia entre puntos.\n",
    "        L: El tamaño de nuestra distribución aleatoria (Lado del cubo que queramos).\n",
    "        d: El rango de aceptación de nuestras comparaciones\n",
    "    }\n",
    "    OUT: El valor de la función de correlación en ese punto\n",
    "    '''\n",
    "    # Primero calculamos el número de puntos y de pares de puntos que hay, además del número de dimensiones\n",
    "    numeroPuntos = len(coordenadas[0])\n",
    "    numeroPares = math.factorial(numeroPuntos) / (2*math.factorial(numeroPuntos-2))\n",
    "    numeroDimensiones = len(coordenadas)\n",
    "    \n",
    "    # Ahora tenemos que separar los puntos para operar fácilmente\n",
    "    if numeroDimensiones == 3:\n",
    "        puntos=[[coordenadas[0][punto],coordenadas[1][punto],coordenadas[2][punto]] for punto in range(numeroPuntos)]\n",
    "    else:\n",
    "        puntos=[[coordenadas[0][punto],coordenadas[1][punto],0] for punto in range(numeroPuntos)]\n",
    "    matrizDistancias = crearMatrizDistancias(puntos, numeroPuntos) # Creamos la matriz de distancias para los puntos dados\n",
    "    \n",
    "    # Creamos una distribución aleatoria, en este caso en un cubo y de nuevo, lo pasamos a un nuevo arreglo de puntos\n",
    "    newDistribution = generateCubeRandom(L=L, numeroPuntos=numeroPuntos)\n",
    "    if numeroDimensiones == 3:\n",
    "        newPuntos=[[newDistribution[0][punto],newDistribution[1][punto],newDistribution[2][punto]] for punto in range(numeroPuntos)]\n",
    "    else:\n",
    "        newPuntos=[[newDistribution[0][punto],newDistribution[1][punto],0] for punto in range(numeroPuntos)]\n",
    "    newMatrizDistancias = crearMatrizDistancias(newPuntos, numeroPuntos) # Y creamos su respectiva matriz de distancias\n",
    "    \n",
    "    # Ahora, creamos una nueva serie de puntos uniendo puntos y newPuntos y repetimos el de crear una matriz de distancias\n",
    "    ######################## DEBUG ###############################################\n",
    "    #xaux = coordenadas[0] + newDistribution[0]\n",
    "    #yaux = coordenadas[1] + newDistribution[1]\n",
    "    #zaux = coordenadas[2] + newDistribution[2]\n",
    "    #cubeaux = [xaux,yaux,zaux]\n",
    "    ##############################################################################3\n",
    "    puntosCombinados = puntos + newPuntos\n",
    "    matrizCombinada = crearMatrizDistancias(puntosCombinados, 2*numeroPuntos) # Y creamos su respectiva matriz de distancias\n",
    "\n",
    "    \n",
    "    # Creamos el rango en el que queremos a dr\n",
    "    dr = [r-d,r+d]\n",
    "    \n",
    "    # Calculamos DD(r) que es el número de pares de puntos separados por una distancia r en la distribución original\n",
    "    paresOriginal=[] # Empezamos una lista vacía\n",
    "    \n",
    "    # Recorremos la matriz de distancias y la que se encuentre dentro del rango dr lo contamos, además, registramos que par es\n",
    "    for index in range(numeroPuntos):\n",
    "            for jndex in range(index, numeroPuntos):\n",
    "                if dr[0] <= matrizDistancias[index][jndex] <= dr[1] and index != jndex:\n",
    "                    paresOriginal.append([index,jndex])\n",
    "                    \n",
    "    DD = len(paresOriginal) # Evidentemente DD es el tamaño de la lista anterior\n",
    "    \n",
    "    # Hacemos lo mismo que hicimos para DD(r) pero ahora para RR(r) que es:\n",
    "    # Número de pares de puntos separados a una distancia  en una distribución aleatoria (cubo aleatorio)\n",
    "    paresNew=[] # Empezamos una lista vacía\n",
    "    \n",
    "    # Recorremos la matriz de distancias y la que se encuentre dentro del rango dr lo contamos, además, registramos que par es\n",
    "    for index in range(numeroPuntos):\n",
    "            for jndex in range(index, numeroPuntos):\n",
    "                if dr[0] <= newMatrizDistancias[index][jndex] <= dr[1] and index != jndex:\n",
    "                    paresNew.append([index,jndex])\n",
    "                    \n",
    "    RR = len(paresNew) # Evidentemente RR es el tamaño de la lista anterior\n",
    "    \n",
    "    # Definimos DR como el Número de pares de puntos separados a una distancia ,\n",
    "    # usando la distribución de datos y la aleatoria como una sola. \n",
    "    # Hacemos lo mismo que con las otras dos\n",
    "    paresCombinados=[]\n",
    "    for index in range(2*numeroPuntos):\n",
    "        for jndex in range(index, 2*numeroPuntos):\n",
    "            if dr[0] <= matrizCombinada[index][jndex] <= dr[1] and index != jndex:\n",
    "                paresCombinados.append([index,jndex])\n",
    "    \n",
    "    DR = len(paresCombinados)\n",
    "    \n",
    "    ##################### DEBUGGEANDO ################################################\n",
    "    #graphCube(coordenadas, color=\"red\")\n",
    "    #graphCube(newDistribution, color=\"blue\")\n",
    "    #graphCube(cubeaux)\n",
    "    #print(puntos, end=\"\\n\\n\")\n",
    "    #print(newPuntos, end=\"\\n\\n\")\n",
    "    #print(puntosCombinados, end=\"\\n\\n\")\n",
    "    #print(paresOriginal)\n",
    "    #print(paresNew)\n",
    "    #print(paresCombinados)\n",
    "    print(len(paresOriginal))\n",
    "    print(len(paresNew))\n",
    "    print(len(paresCombinados))\n",
    "    #for i in paresCombinados:\n",
    "    #    a=i[0]\n",
    "    #    b=i[1]\n",
    "    #    print(puntosCombinados[a])\n",
    "    #    print(puntosCombinados[b])\n",
    "    #    print(distancia2Puntos(puntosCombinados[a],puntosCombinados[b]))\n",
    "    #    print(i)\n",
    "    ####################################################################################\n",
    "    \n",
    "    if RR==0:\n",
    "        return False\n",
    "    else:\n",
    "        return (DD - 2*DR + RR)/RR"
   ]
  },
  {
   "cell_type": "code",
   "execution_count": 188,
   "metadata": {},
   "outputs": [
    {
     "name": "stdout",
     "output_type": "stream",
     "text": [
      "33\n",
      "39\n",
      "152\n"
     ]
    },
    {
     "data": {
      "text/plain": [
       "-5.948717948717949"
      ]
     },
     "execution_count": 188,
     "metadata": {},
     "output_type": "execute_result"
    }
   ],
   "source": [
    "Cube1 = generateCubeRandom(L=20, numeroPuntos=500, seed=500)\n",
    "correlacionFuncion(coordenadas=Cube1, r=1, L=20, d=0.1)"
   ]
  },
  {
   "cell_type": "markdown",
   "metadata": {},
   "source": [
    "#### Funciones auxiliares para correlación"
   ]
  },
  {
   "cell_type": "code",
   "execution_count": 76,
   "metadata": {},
   "outputs": [],
   "source": [
    "def distancia2Puntos(punto1, punto2):\n",
    "    '''\n",
    "    Descripción: Calcula la distancia entre 2 puntos dados en 3 dimensiones\n",
    "    IN = {\n",
    "        punto1 y punto2: Los dos puntos a tratar.\n",
    "    }\n",
    "    OUT: El valor de la distancia entre estos dos puntos\n",
    "    '''\n",
    "    dx=(punto1[0]-punto2[0])\n",
    "    dy=(punto1[1]-punto2[1])\n",
    "    dz=(punto1[2]-punto2[2])\n",
    "    \n",
    "    return (dx**2+dy**2+dz**2)**(1/2)"
   ]
  },
  {
   "cell_type": "code",
   "execution_count": 77,
   "metadata": {},
   "outputs": [],
   "source": [
    "def crearMatrizDistancias(puntos, numeroPuntos, L):\n",
    "    '''\n",
    "    Descripción: Calcula la distancia entre pares de puntos de una lista\n",
    "    IN = {\n",
    "        puntos: Lista de puntos a tratar.\n",
    "        numeroPuntos: Número de puntos a tratar.\n",
    "    }\n",
    "    OUT: Una matriz con la distancia de puntos dada de la siguiente manera:\n",
    "    \"La distancia entre el punto n y el punto m es la componente m[n][m] de la matriz\"\n",
    "    '''\n",
    "    # Aquí, se crea una matriz que guardará la distancia entre pares de números, note que la matriz es\n",
    "    # simétrica entonces no es necesario hacer las n^2 operaciones\n",
    "    distanciaPares = np.zeros(shape=(numeroPuntos,numeroPuntos))\n",
    "    for index, punto in enumerate(puntos):\n",
    "        for jndex in range(index,numeroPuntos):\n",
    "            distanciaPares[index][jndex] = distanciaPuntos(punto,puntos[jndex])\n",
    "            distanciaPares[jndex][index] = distanciaPares[index][jndex]\n",
    "    \n",
    "    return distanciaPares"
   ]
  },
  {
   "cell_type": "markdown",
   "metadata": {},
   "source": [
    "### Códgios de visualización"
   ]
  },
  {
   "cell_type": "code",
   "execution_count": 114,
   "metadata": {},
   "outputs": [],
   "source": [
    "def graphCube(coord, color=\"purple\"):\n",
    "    '''\n",
    "    Descripción: Función que grafica puntos en 3D.\n",
    "    IN = {\n",
    "        coord: Una lista con coordenas [x,y,z], que a su vez, cada variable son una lista\n",
    "        color: Inidica el color de nuestra gráfica\n",
    "    }\n",
    "    OUT: Gráfica 3d de los puntos\n",
    "    '''\n",
    "    fig = plt.figure(figsize = (7,7))\n",
    "    ax1 = fig.add_subplot(projection='3d')\n",
    "    ax1.scatter(coord[0], coord[1], coord[2], \"r\", marker='.', color=color)"
   ]
  },
  {
   "cell_type": "markdown",
   "metadata": {},
   "source": [
    "### Ejecutando el código"
   ]
  },
  {
   "cell_type": "code",
   "execution_count": 104,
   "metadata": {},
   "outputs": [
    {
     "data": {
      "image/png": "[encoded data removed]",
      "text/plain": [
       "<Figure size 504x504 with 1 Axes>"
      ]
     },
     "metadata": {
      "needs_background": "light"
     },
     "output_type": "display_data"
    }
   ],
   "source": [
    "Cube1 = generateCubeRandom(L=10, numeroPuntos=3)\n",
    "graphCube(Cube1)"
   ]
  },
  {
   "cell_type": "code",
   "execution_count": null,
   "metadata": {},
   "outputs": [],
   "source": []
  }
 ],
 "metadata": {
  "kernelspec": {
   "display_name": "Python 3",
   "language": "python",
   "name": "python3"
  },
  "language_info": {
   "codemirror_mode": {
    "name": "ipython",
    "version": 3
   },
   "file_extension": ".py",
   "mimetype": "text/x-python",
   "name": "python",
   "nbconvert_exporter": "python",
   "pygments_lexer": "ipython3",
   "version": "3.8.1"
  }
 },
 "nbformat": 4,
 "nbformat_minor": 4
}

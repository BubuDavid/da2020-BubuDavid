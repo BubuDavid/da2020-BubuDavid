{
 "cells": [
  {
   "cell_type": "markdown",
   "metadata": {},
   "source": [
    "# Comparación entre tiempos, con arreglos Numpy y sin arreglos Numpy"
   ]
  },
  {
   "cell_type": "markdown",
   "metadata": {},
   "source": [
    "### Observe la siguiente tabla de tiempos obtenida del código \"Codigo_Plano.ipynb\" y el código \"Codigo_Numpy.ipynb\""
   ]
  },
  {
   "cell_type": "markdown",
   "metadata": {},
   "source": [
    "|                           | Numpy     | Plano     |\n",
    "|---------------------------|-----------|-----------|\n",
    "| Función Runge Kutta       | 8.97 ms   | 15.3 ms   |\n",
    "| Extracción de información | 997 µs    | 1.13 ms   |\n",
    "| Graficar la información   | 2 ms      | 998 µs    |\n",
    "| Total                     | ‭11.967‬ ms | 17.428 ms |"
   ]
  },
  {
   "cell_type": "markdown",
   "metadata": {},
   "source": [
    "Se evaluaron tres momentos dentro de ambos códigos, cuando se ejecuta la función Runge Kutta, cuando se extrae la información de los archivos creados por esta última y por último cuando se graficó y se sumaron los tiempos, es claro que manejar arreglos con Python es mucho más rápido y eficiente que hacerlo de manera \"normal\". Dentro de ambos notebooks, se encuentra el código, las gráficas y los tiempos que tardo el código en ejecutarse.\n",
    "\n",
    "La diferencia no es muy grande (Es de microsegundos). Sin embargo, esto es porque se trabajó con una cantidad pequeña de datos, de 200 datos únicamente. Si imaginaramos trabajar con billones de datos (Es decir, datos reales), entonces tal vez habría diferencia de segundos, minutos, horas o incluso días y semanas. Numpy es claramente muy poderoso "
   ]
  },
  {
   "cell_type": "code",
   "execution_count": null,
   "metadata": {},
   "outputs": [],
   "source": []
  }
 ],
 "metadata": {
  "kernelspec": {
   "display_name": "Python 3",
   "language": "python",
   "name": "python3"
  },
  "language_info": {
   "codemirror_mode": {
    "name": "ipython",
    "version": 3
   },
   "file_extension": ".py",
   "mimetype": "text/x-python",
   "name": "python",
   "nbconvert_exporter": "python",
   "pygments_lexer": "ipython3",
   "version": "3.7.4"
  }
 },
 "nbformat": 4,
 "nbformat_minor": 4
}

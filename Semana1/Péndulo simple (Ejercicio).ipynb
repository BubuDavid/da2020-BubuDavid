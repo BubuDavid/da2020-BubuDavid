{
 "cells": [
  {
   "cell_type": "markdown",
   "metadata": {},
   "source": [
    "# Resolviendo en código plano"
   ]
  },
  {
   "cell_type": "markdown",
   "metadata": {},
   "source": [
    "A continuación, se declara la función Runge_Kutta para resolver la ecuación: \n",
    "$ \\ddot{\\theta} + \\omega \\theta = 0 $"
   ]
  },
  {
   "cell_type": "code",
   "execution_count": 1,
   "metadata": {},
   "outputs": [],
   "source": [
    "def Runge_Kutta(nombre, a, b, m, n, alpha, f, y):\n",
    "\n",
    "  data=open(\"inciso \"+nombre+\".txt\", \"w\")\n",
    "\n",
    "  h = (b - a)/ n\n",
    "  t = a\n",
    "\n",
    "  data.write(\"t       \")\n",
    "  print(\"t       \", end = \"\")\n",
    "\n",
    "  for i in range(m):\n",
    "    data.write(f\"|w[{i}]       \")\n",
    "    print(f\"|w[{i}]       \", end=\"\")\n",
    "\n",
    "  data.write(\"|y[i]       \")\n",
    "  data.write(\"Error\")\n",
    "  print(\"|y[i]        \", end=\"\")\n",
    "  print(\"Error\", end=\"\")\n",
    "\n",
    "  data.write(\"\\n\")\n",
    "  print()\n",
    "\n",
    "  k = [[\"empty\"],[\"empty\"],[\"empty\"],[\"empty\"],[\"empty\"]]\n",
    "  for j in range(1, m+1):\n",
    "      k[1].append(0)\n",
    "      k[2].append(0)\n",
    "      k[3].append(0)\n",
    "      k[4].append(0)\n",
    "\n",
    "  w = [\"empty\"]\n",
    "\n",
    "  for j in range(1, m+1):\n",
    "    w.append(alpha[j])\n",
    "\n",
    "  for i in range(1, n+1):\n",
    "\n",
    "    # Primera\n",
    "    for j in range(1, m+1):\n",
    "      k[1][j] = (h * f[j](t, w))\n",
    "\n",
    "    #Segunda\n",
    "    w_aux = [\"empty\"]\n",
    "    for l in range(1, m+1):\n",
    "        w_aux.append(w[l] + 1/2 * k[1][l])\n",
    "    for j in range(1, m+1):\n",
    "      k[2][j] = (h * f[j](t + h/2, w_aux))\n",
    "\n",
    "\n",
    "    #Tercera\n",
    "    w_aux = [\"empty\"]\n",
    "    for l in range(1, m+1):\n",
    "        w_aux.append(w[l] + 1/2 * k[2][l])\n",
    "    for j in range(1, m+1):\n",
    "      k[3][j] = (h * f[j](t + h/2, w_aux))\n",
    "\n",
    "\n",
    "    #Cuarta\n",
    "    w_aux = [\"empty\"]\n",
    "    for l in range(1, m+1):\n",
    "        w_aux.append(w[l] + k[3][l])\n",
    "    for j in range(1, m+1):\n",
    "      k[4][j] = (h * f[j](t + h, w_aux))\n",
    "\n",
    "    #Step 9\n",
    "    for j in range(1, m+1):\n",
    "      w[j] = w[j] + (k[1][j] + 2 * k[2][j] + 2 * k[3][j] + k[4][j]) / 6\n",
    "\n",
    "    t = a + i * h\n",
    "\n",
    "    print(\"{:.4f}\".format(t), end=\"  \")\n",
    "    data.write(\"{:.4f}  \".format(t))\n",
    "    for j in range(1, m+1):\n",
    "      print(\"{:.8f}\".format(w[j]), end=\"  \")\n",
    "      data.write(\"{:.8f}  \".format(w[j]))\n",
    "\n",
    "    print(\"{:.8f}\".format(y(t)), end=\" \")\n",
    "    data.write(\"{:.8f}  \".format(y(t)))\n",
    "    print(\"{:.8f}\".format(abs(w[1]-y(t))), end=\"\")\n",
    "    data.write(\"{:.8f}\".format(abs(w[1]-y(t))))\n",
    "\n",
    "    print()\n",
    "    data.write(\"\\n\")\n",
    "\n",
    "  data.close()\n"
   ]
  },
  {
   "cell_type": "markdown",
   "metadata": {},
   "source": [
    "Se definen algunas funciones para el método anterior"
   ]
  },
  {
   "cell_type": "code",
   "execution_count": 2,
   "metadata": {},
   "outputs": [],
   "source": [
    "def eq1(t, u):\n",
    "    return u[2];\n",
    "\n",
    "def eq2(t, u):\n",
    "    return (-g/l) * u[1];\n",
    "\n",
    "def tetha(t):\n",
    "    return np.sin(t);"
   ]
  },
  {
   "cell_type": "code",
   "execution_count": 4,
   "metadata": {},
   "outputs": [],
   "source": [
    "# Ejecución de código\n",
    "Runge_Kutta(nombre = \"Codigo plano\", a=0, b=2*np.pi, )"
   ]
  }
 ],
 "metadata": {
  "kernelspec": {
   "display_name": "Python 3",
   "language": "python",
   "name": "python3"
  },
  "language_info": {
   "codemirror_mode": {
    "name": "ipython",
    "version": 3
   },
   "file_extension": ".py",
   "mimetype": "text/x-python",
   "name": "python",
   "nbconvert_exporter": "python",
   "pygments_lexer": "ipython3",
   "version": "3.7.4"
  }
 },
 "nbformat": 4,
 "nbformat_minor": 4
}

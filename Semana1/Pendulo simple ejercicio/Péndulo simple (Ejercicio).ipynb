{
 "cells": [
  {
   "cell_type": "markdown",
   "metadata": {},
   "source": [
    "# Resolviendo en código plano"
   ]
  },
  {
   "cell_type": "markdown",
   "metadata": {},
   "source": [
    "Importing important stuff"
   ]
  },
  {
   "cell_type": "code",
   "execution_count": 8,
   "metadata": {},
   "outputs": [],
   "source": [
    "import numpy as np"
   ]
  },
  {
   "cell_type": "markdown",
   "metadata": {},
   "source": [
    "A continuación, se declara la función Runge_Kutta para resolver la ecuación: \n",
    "$ \\ddot{\\theta} + \\omega \\theta = 0 $"
   ]
  },
  {
   "cell_type": "code",
   "execution_count": 9,
   "metadata": {},
   "outputs": [],
   "source": [
    "def Runge_Kutta(nombre, a, b, m, n, alpha, f, y):\n",
    "\n",
    "  data=open(nombre+\".txt\", \"w\")\n",
    "\n",
    "  h = (b - a)/ n\n",
    "  t = a\n",
    "\n",
    "  data.write(\"t       \")\n",
    "  print(\"t       \", end = \"\")\n",
    "\n",
    "  for i in range(m):\n",
    "    data.write(f\"|w[{i}]       \")\n",
    "    print(f\"|w[{i}]       \", end=\"\")\n",
    "\n",
    "  data.write(\"|y[i]       \")\n",
    "  data.write(\"Error\")\n",
    "  print(\"|y[i]        \", end=\"\")\n",
    "  print(\"Error\", end=\"\")\n",
    "\n",
    "  data.write(\"\\n\")\n",
    "  print()\n",
    "\n",
    "  k = [[\"empty\"],[\"empty\"],[\"empty\"],[\"empty\"],[\"empty\"]]\n",
    "  for j in range(1, m+1):\n",
    "      k[1].append(0)\n",
    "      k[2].append(0)\n",
    "      k[3].append(0)\n",
    "      k[4].append(0)\n",
    "\n",
    "  w = [\"empty\"]\n",
    "\n",
    "  for j in range(1, m+1):\n",
    "    w.append(alpha[j])\n",
    "\n",
    "  for i in range(1, n+1):\n",
    "\n",
    "    # Primera\n",
    "    for j in range(1, m+1):\n",
    "      k[1][j] = (h * f[j](t, w))\n",
    "\n",
    "    #Segunda\n",
    "    w_aux = [\"empty\"]\n",
    "    for l in range(1, m+1):\n",
    "        w_aux.append(w[l] + 1/2 * k[1][l])\n",
    "    for j in range(1, m+1):\n",
    "      k[2][j] = (h * f[j](t + h/2, w_aux))\n",
    "\n",
    "\n",
    "    #Tercera\n",
    "    w_aux = [\"empty\"]\n",
    "    for l in range(1, m+1):\n",
    "        w_aux.append(w[l] + 1/2 * k[2][l])\n",
    "    for j in range(1, m+1):\n",
    "      k[3][j] = (h * f[j](t + h/2, w_aux))\n",
    "\n",
    "\n",
    "    #Cuarta\n",
    "    w_aux = [\"empty\"]\n",
    "    for l in range(1, m+1):\n",
    "        w_aux.append(w[l] + k[3][l])\n",
    "    for j in range(1, m+1):\n",
    "      k[4][j] = (h * f[j](t + h, w_aux))\n",
    "\n",
    "    #Step 9\n",
    "    for j in range(1, m+1):\n",
    "      w[j] = w[j] + (k[1][j] + 2 * k[2][j] + 2 * k[3][j] + k[4][j]) / 6\n",
    "\n",
    "    t = a + i * h\n",
    "\n",
    "    print(\"{:.4f}\".format(t), end=\"  \")\n",
    "    data.write(\"{:.4f}  \".format(t))\n",
    "    for j in range(1, m+1):\n",
    "      print(\"{:.8f}\".format(w[j]), end=\"  \")\n",
    "      data.write(\"{:.8f}  \".format(w[j]))\n",
    "\n",
    "    print(\"{:.8f}\".format(y(t)), end=\" \")\n",
    "    data.write(\"{:.8f}  \".format(y(t)))\n",
    "    print(\"{:.8f}\".format(abs(w[1]-y(t))), end=\"\")\n",
    "    data.write(\"{:.8f}\".format(abs(w[1]-y(t))))\n",
    "\n",
    "    print()\n",
    "    data.write(\"\\n\")\n",
    "\n",
    "  data.close()\n"
   ]
  },
  {
   "cell_type": "markdown",
   "metadata": {},
   "source": [
    "Se definen algunas funciones para el método anterior"
   ]
  },
  {
   "cell_type": "code",
   "execution_count": 10,
   "metadata": {},
   "outputs": [],
   "source": [
    "def eq1(t, u):\n",
    "    return u[2];\n",
    "\n",
    "def eq2(t, u):\n",
    "    return (-g/l) * u[1];\n",
    "\n",
    "def theta(t):\n",
    "    return np.sin(t);\n",
    "\n",
    "f = [\"empty\", eq1, eq2]"
   ]
  },
  {
   "cell_type": "markdown",
   "metadata": {},
   "source": [
    "Define important variables"
   ]
  },
  {
   "cell_type": "code",
   "execution_count": 13,
   "metadata": {},
   "outputs": [],
   "source": [
    "g = 9.81\n",
    "l = 1"
   ]
  },
  {
   "cell_type": "code",
   "execution_count": 16,
   "metadata": {},
   "outputs": [
    {
     "name": "stdout",
     "output_type": "stream",
     "text": [
      "t       |w[0]       |w[1]       |y[i]        Error\n",
      "0.1571  0.00000000  0.00000000  0.15643447 0.15643447\n",
      "0.3142  0.00000000  0.00000000  0.30901699 0.30901699\n",
      "0.4712  0.00000000  0.00000000  0.45399050 0.45399050\n",
      "0.6283  0.00000000  0.00000000  0.58778525 0.58778525\n",
      "0.7854  0.00000000  0.00000000  0.70710678 0.70710678\n",
      "0.9425  0.00000000  0.00000000  0.80901699 0.80901699\n",
      "1.0996  0.00000000  0.00000000  0.89100652 0.89100652\n",
      "1.2566  0.00000000  0.00000000  0.95105652 0.95105652\n",
      "1.4137  0.00000000  0.00000000  0.98768834 0.98768834\n",
      "1.5708  0.00000000  0.00000000  1.00000000 1.00000000\n",
      "1.7279  0.00000000  0.00000000  0.98768834 0.98768834\n",
      "1.8850  0.00000000  0.00000000  0.95105652 0.95105652\n",
      "2.0420  0.00000000  0.00000000  0.89100652 0.89100652\n",
      "2.1991  0.00000000  0.00000000  0.80901699 0.80901699\n",
      "2.3562  0.00000000  0.00000000  0.70710678 0.70710678\n",
      "2.5133  0.00000000  0.00000000  0.58778525 0.58778525\n",
      "2.6704  0.00000000  0.00000000  0.45399050 0.45399050\n",
      "2.8274  0.00000000  0.00000000  0.30901699 0.30901699\n",
      "2.9845  0.00000000  0.00000000  0.15643447 0.15643447\n",
      "3.1416  0.00000000  0.00000000  0.00000000 0.00000000\n",
      "3.2987  0.00000000  0.00000000  -0.15643447 0.15643447\n",
      "3.4558  0.00000000  0.00000000  -0.30901699 0.30901699\n",
      "3.6128  0.00000000  0.00000000  -0.45399050 0.45399050\n",
      "3.7699  0.00000000  0.00000000  -0.58778525 0.58778525\n",
      "3.9270  0.00000000  0.00000000  -0.70710678 0.70710678\n",
      "4.0841  0.00000000  0.00000000  -0.80901699 0.80901699\n",
      "4.2412  0.00000000  0.00000000  -0.89100652 0.89100652\n",
      "4.3982  0.00000000  0.00000000  -0.95105652 0.95105652\n",
      "4.5553  0.00000000  0.00000000  -0.98768834 0.98768834\n",
      "4.7124  0.00000000  0.00000000  -1.00000000 1.00000000\n",
      "4.8695  0.00000000  0.00000000  -0.98768834 0.98768834\n",
      "5.0265  0.00000000  0.00000000  -0.95105652 0.95105652\n",
      "5.1836  0.00000000  0.00000000  -0.89100652 0.89100652\n",
      "5.3407  0.00000000  0.00000000  -0.80901699 0.80901699\n",
      "5.4978  0.00000000  0.00000000  -0.70710678 0.70710678\n",
      "5.6549  0.00000000  0.00000000  -0.58778525 0.58778525\n",
      "5.8119  0.00000000  0.00000000  -0.45399050 0.45399050\n",
      "5.9690  0.00000000  0.00000000  -0.30901699 0.30901699\n",
      "6.1261  0.00000000  0.00000000  -0.15643447 0.15643447\n",
      "6.2832  0.00000000  0.00000000  -0.00000000 0.00000000\n"
     ]
    }
   ],
   "source": [
    "# Ejecución de código\n",
    "Runge_Kutta(nombre = \"Codigo plano\", a=0, b=2*np.pi, m=2, n=40, alpha=[\"empty\", 0, 0], f=f, y=theta)"
   ]
  },
  {
   "cell_type": "code",
   "execution_count": null,
   "metadata": {},
   "outputs": [],
   "source": []
  }
 ],
 "metadata": {
  "kernelspec": {
   "display_name": "Python 3",
   "language": "python",
   "name": "python3"
  },
  "language_info": {
   "codemirror_mode": {
    "name": "ipython",
    "version": 3
   },
   "file_extension": ".py",
   "mimetype": "text/x-python",
   "name": "python",
   "nbconvert_exporter": "python",
   "pygments_lexer": "ipython3",
   "version": "3.7.4"
  }
 },
 "nbformat": 4,
 "nbformat_minor": 4
}
